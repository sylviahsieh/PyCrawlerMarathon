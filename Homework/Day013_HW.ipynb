{
 "cells": [
  {
   "cell_type": "markdown",
   "metadata": {},
   "source": [
    "# PTT 網路爬蟲實作練習\n",
    "\n",
    "\n",
    "* 能夠利用 Request + BeatifulSour 撰寫爬蟲，並存放到合適的資料結構\n"
   ]
  },
  {
   "cell_type": "markdown",
   "metadata": {},
   "source": [
    "## 作業目標\n",
    "\n",
    "根據範例 ，完成以下問題：\n",
    "\n",
    "* ① 印出最新文章的「作者」「標題」「時間」\n",
    "* ② 印出第一頁所有文章的「作者」「標題」「時間」\n"
   ]
  },
  {
   "cell_type": "markdown",
   "metadata": {},
   "source": [
    "### ① 印出最新文章的「作者」「標題」「時間」"
   ]
  },
  {
   "cell_type": "code",
   "execution_count": 12,
   "metadata": {},
   "outputs": [
    {
     "name": "stdout",
     "output_type": "stream",
     "text": [
      "標題: (本文已被刪除) [hass231470]\n",
      "標題: Re: [情報] PG:曾有最佳大前想來溜馬，但管理層卻說\n",
      "作者: peacemaker1 (' jjj ' )\n",
      "時間: Thu Jun 25 17:14:38 2020\n",
      "標題: [新聞]憶杜蘭特跳槽勇士 伊古達拉歸功2010年因\n",
      "作者: sodistrues (true)\n",
      "時間: Thu Jun 25 21:34:52 2020\n",
      "標題: [情報] 灌籃王Derrick Jones Jr確診\n",
      "作者: NCTUPARSONS (交大帕森斯)\n",
      "時間: Thu Jun 25 21:57:52 2020\n",
      "標題: [花邊] Vince Carter正式宣布退休\n",
      "作者: ghost069 (阿鬼)\n",
      "時間: Thu Jun 25 22:14:36 2020\n",
      "標題: [情報] 愛迪達為Damian Lillard推出麥當勞聯名鞋\n",
      "作者: thnlkj0665 (灰色地帶)\n",
      "時間: Thu Jun 25 23:00:09 2020\n",
      "標題: [花邊] 23年前的今天  馬刺選了Tim Duncan\n",
      "作者: Wall62 ()\n",
      "時間: Fri Jun 26 04:31:24 2020\n",
      "標題: [討論] Doncic重獲追逐最年輕mvp的機會\n",
      "作者: Outside (舊戌)\n",
      "時間: Fri Jun 26 05:06:05 2020\n",
      "標題: [情報] 獨行俠WCS將缺席復賽 另簽下Trey Burke\n",
      "作者: love1500274 (CoWuCoWu)\n",
      "時間: Fri Jun 26 09:01:13 2020\n",
      "標題: [專欄] 老兵不死的射手典範 考佛歷史高度值得尊敬\n",
      "作者: laptic (靜夜聖林彼岸花)\n",
      "時間: Fri Jun 26 09:07:09 2020\n",
      "標題: [公告] 板規v6.8\n",
      "標題: [公告] 版主上任相關事項 \n",
      "作者: qazwsx879345 (Rajon Rondo)\n",
      "時間: Fri Oct 25 10:44:03 2019\n",
      "標題: [情報] SEASON Schedule 賽程 March 19–20\n",
      "作者: Acetoxy (阿斯)\n",
      "時間: Mon Mar  2 01:19:40 2020\n",
      "標題: [公告] 第一次被退文，可在三天後刪除退文\n",
      "作者: Vedan (味丹)\n",
      "時間: Mon Mar  9 11:44:26 2020\n",
      "標題: [公告] 板務說明 (發錢)\n",
      "作者: Vedan (味丹)\n",
      "時間: Fri Apr  3 01:28:00 2020\n"
     ]
    },
    {
     "data": {
      "text/plain": [
       "'for d in soup.find_all(class_=\"title\"):\\n    try:\\n        print(\\'標題： \\', d.text.replace(\\'\\t\\', \\'\\').replace(\\'\\n\\', \\'\\'))\\n        r = BeautifulSoup(requests.get(\\'https://www.ptt.cc\\'+d.find(\\'a\\')[\\'href\\']).text, \"html5lib\")\\n        print(\\'作者： \\' + r.find(class_=\\'article-meta-value\\').text)\\n        print(\\'時間： \\' + r.find_all(class_=\\'article-meta-value\\')[-1].text)\\n    except:\\n        continue'"
      ]
     },
     "execution_count": 12,
     "metadata": {},
     "output_type": "execute_result"
    }
   ],
   "source": [
    "import requests\n",
    "from bs4 import BeautifulSoup\n",
    "\n",
    "url='https://www.ptt.cc/bbs/NBA/index.html'\n",
    "r=requests.get(url)\n",
    "\n",
    "soup=BeautifulSoup(r.text,\"html5lib\")\n",
    "\n",
    "\n",
    "for d in soup.find_all(class_=\"title\"): \n",
    "    try:\n",
    "        print('標題:', d.text.replace('\\t','').replace('\\n',''))\n",
    "        r=BeautifulSoup(requests.get('https://www.ptt.cc'+d.find('a')['href']).text,\"html5lib\")\n",
    "        print('作者: '+r.find(class_='article-meta-value').text)\n",
    "        print('時間: '+r.find_all(class_='article-meta-value')[-1].text)\n",
    "    except:\n",
    "        continue"
   ]
  },
  {
   "cell_type": "markdown",
   "metadata": {},
   "source": [
    "### ② 印出第一頁所有文章的「作者」「標題」「時間」"
   ]
  },
  {
   "cell_type": "code",
   "execution_count": 13,
   "metadata": {},
   "outputs": [
    {
     "data": {
      "text/plain": [
       "{'標題': '[情報] 愛迪達為Damian Lillard推出麥當勞聯名鞋',\n",
       " '作者': 'thnlkj0665 (灰色地帶)',\n",
       " '時間': 'Thu Jun 25 23:00:09 2020'}"
      ]
     },
     "execution_count": 13,
     "metadata": {},
     "output_type": "execute_result"
    }
   ],
   "source": [
    "posts = []\n",
    "\n",
    "for d in soup.find_all(class_=\"title\"):\n",
    "    try:\n",
    "        post = {}\n",
    "        post['標題'] = d.text.replace('\\t', '').replace('\\n', '')\n",
    "        \n",
    "        r = BeautifulSoup(requests.get('https://www.ptt.cc'+d.find('a')['href']).text, \"html5lib\")\n",
    "        post['作者'] = r.find(class_='article-meta-value').text\n",
    "        post['時間'] = r.find_all(class_='article-meta-value')[-1].text\n",
    "        \n",
    "        posts.append(post)\n",
    "    except:\n",
    "        continue\n",
    "        \n",
    "posts = sorted(posts, key= lambda x: x['時間'])\n",
    "posts[-1]"
   ]
  },
  {
   "cell_type": "markdown",
   "metadata": {},
   "source": [
    "### ③ 試著爬爬看其他版的文章"
   ]
  },
  {
   "cell_type": "code",
   "execution_count": 15,
   "metadata": {},
   "outputs": [
    {
     "name": "stdout",
     "output_type": "stream",
     "text": [
      "標題:  [轉系] 歷史系轉系疑問\n",
      "作者: aurora903 (aurora903)\n",
      "標題:  [輔系] 事後輔系的選課\n",
      "作者: voizyc (養樂多奶茶)\n",
      "標題:  [轉系] 如果老師遲交成績怎麼辦？\n",
      "作者: LF25166234 (阿揚)\n",
      "標題:  [雙修] 雙轉資工，GPA與審查資料問題\n",
      "作者: Iloveolaf (無)\n",
      "標題:  [雙修] 雙經濟疑問\n",
      "作者: MiddleRe (中間綠)\n",
      "標題:  [輔系] 輔修的專業必修充當通識？\n",
      "作者: yahoo168 (努力就會有騷貨)\n",
      "標題:  [雙修] 雙數學GPA\n",
      "作者: ntupppeap (台大比波)\n",
      "標題:  [情報] 十二年獨身旅遊 讀萬卷書不如行萬里路\n",
      "作者: REGINAWANG (重出江湖)\n",
      "標題:  雙戲劇GPA\n",
      "作者: MyDouhua30d (阿火山小里車)\n",
      "標題:  [輔系] 輔系順位問題\n",
      "作者: TitanGel (嘿嘿嘿)\n",
      "標題:  [心得] 機械雙物理四年畢心得\n",
      "作者: TylerYi (查號台)\n",
      "標題:  [雙修] 雙財金系之申請\n",
      "作者: damionLee (柯瑞妹夫)\n",
      "標題:  [轉系] 生傳系 - 轉入成績和履歷自傳相關\n",
      "作者: sunnyyy0114 (nyny0114)\n",
      "標題:  [公告] 雙修版發文新規定\n",
      "作者: dreamof28 (想一想  是不是錯了呢)\n",
      "標題:  [公告] 新手指南\n",
      "作者: philip20336 (8/3 轉雙輔 放榜)\n"
     ]
    }
   ],
   "source": [
    "import requests\n",
    "from bs4 import BeautifulSoup\n",
    "\n",
    "url='https://www.ptt.cc/bbs/DoubleMajor/index.html'\n",
    "r=requests.get(url)\n",
    "\n",
    "soup=BeautifulSoup(r.text,\"html5lib\")\n",
    "\n",
    "for d in soup.find_all(class_=\"title\"):    \n",
    "    try:\n",
    "        print('標題: ',d.text.replace('\\t','').replace('\\n',''))\n",
    "        r=BeautifulSoup(requests.get('https://www.ptt.cc'+d.find('a')['href']).text,\"html5lib\")\n",
    "        print('作者: '+r.find(class_='article-meta-value').text)\n",
    "        print('時間: '+r.find_all(class_='article-meta-value').text)\n",
    "    except:\n",
    "        continue\n",
    "\n"
   ]
  },
  {
   "cell_type": "code",
   "execution_count": null,
   "metadata": {},
   "outputs": [],
   "source": []
  }
 ],
 "metadata": {
  "kernelspec": {
   "display_name": "Python 3",
   "language": "python",
   "name": "python3"
  },
  "language_info": {
   "codemirror_mode": {
    "name": "ipython",
    "version": 3
   },
   "file_extension": ".py",
   "mimetype": "text/x-python",
   "name": "python",
   "nbconvert_exporter": "python",
   "pygments_lexer": "ipython3",
   "version": "3.7.3"
  }
 },
 "nbformat": 4,
 "nbformat_minor": 2
}
