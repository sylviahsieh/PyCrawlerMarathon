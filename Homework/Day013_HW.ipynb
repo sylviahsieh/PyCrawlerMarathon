{
 "cells": [
  {
   "cell_type": "markdown",
   "metadata": {},
   "source": [
    "# PTT 網路爬蟲實作練習\n",
    "\n",
    "\n",
    "* 能夠利用 Request + BeatifulSour 撰寫爬蟲，並存放到合適的資料結構\n"
   ]
  },
  {
   "cell_type": "markdown",
   "metadata": {},
   "source": [
    "## 作業目標\n",
    "\n",
    "根據範例 ，完成以下問題：\n",
    "\n",
    "* ① 印出最新文章的「作者」「標題」「時間」\n",
    "* ② 印出第一頁所有文章的「作者」「標題」「時間」\n"
   ]
  },
  {
   "cell_type": "markdown",
   "metadata": {},
   "source": [
    "### ① 印出最新文章的「作者」「標題」「時間」"
   ]
  },
  {
   "cell_type": "code",
   "execution_count": 5,
   "metadata": {},
   "outputs": [
    {
     "name": "stdout",
     "output_type": "stream",
     "text": [
      "(本文已被刪除) [hass231470]\n",
      "Re: [情報] PG:曾有最佳大前想來溜馬，但管理層卻說\n",
      "[新聞]憶杜蘭特跳槽勇士 伊古達拉歸功2010年因\n",
      "[情報] 灌籃王Derrick Jones Jr確診\n",
      "[花邊] Vince Carter正式宣布退休\n",
      "[情報] 愛迪達為Damian Lillard推出麥當勞聯名鞋\n",
      "[花邊] 23年前的今天  馬刺選了Tim Duncan\n",
      "[討論] Doncic重獲追逐最年輕mvp的機會\n",
      "[情報] 獨行俠WCS將缺席復賽 另簽下Trey Burke\n",
      "[專欄] 老兵不死的射手典範 考佛歷史高度值得尊敬\n",
      "[公告] 板規v6.8\n",
      "[公告] 版主上任相關事項 \n",
      "[情報] SEASON Schedule 賽程 March 19–20\n",
      "[公告] 第一次被退文，可在三天後刪除退文\n",
      "[公告] 板務說明 (發錢)\n"
     ]
    }
   ],
   "source": [
    "import requests\n",
    "from bs4 import BeautifulSoup\n",
    "\n",
    "url='https://www.ptt.cc/bbs/NBA/index.html'\n",
    "r=requests.get(url)\n",
    "\n",
    "soup=BeautifulSoup(r.text,\"html5lib\")\n",
    "\n",
    "for d in soup.find_all(class_=\"title\"):\n",
    "    print(d.text.replace('\\t','').replace('\\n',''))\n",
    "    \n",
    "    try:\n",
    "        r=BeautilfuSoup(requests.get('https://www.ptt.cc'+d.find('a')['href']).text,\"html5lib\")\n",
    "        print('作者:'+r.find(class_='article-meta-value').text)\n",
    "    except:\n",
    "        continue\n"
   ]
  },
  {
   "cell_type": "markdown",
   "metadata": {},
   "source": [
    "### ② 印出第一頁所有文章的「作者」「標題」「時間」"
   ]
  },
  {
   "cell_type": "code",
   "execution_count": null,
   "metadata": {},
   "outputs": [],
   "source": [
    "'''\n",
    "Your Code\n",
    "'''"
   ]
  },
  {
   "cell_type": "markdown",
   "metadata": {},
   "source": [
    "### ③ 試著爬爬看其他版的文章"
   ]
  },
  {
   "cell_type": "code",
   "execution_count": 2,
   "metadata": {},
   "outputs": [
    {
     "name": "stdout",
     "output_type": "stream",
     "text": [
      "[轉系] 歷史系轉系疑問\n",
      "[輔系] 事後輔系的選課\n",
      "[轉系] 如果老師遲交成績怎麼辦？\n",
      "[雙修] 雙轉資工，GPA與審查資料問題\n",
      "[雙修] 雙經濟疑問\n",
      "[輔系] 輔修的專業必修充當通識？\n",
      "[雙修] 雙數學GPA\n",
      "[情報] 十二年獨身旅遊 讀萬卷書不如行萬里路\n",
      "雙戲劇GPA\n",
      "[輔系] 輔系順位問題\n",
      "[心得] 機械雙物理四年畢心得\n",
      "[雙修] 雙財金系之申請\n",
      "[轉系] 生傳系 - 轉入成績和履歷自傳相關\n",
      "[公告] 雙修版發文新規定\n",
      "[公告] 新手指南\n"
     ]
    }
   ],
   "source": [
    "import requests\n",
    "from bs4 import BeautifulSoup\n",
    "\n",
    "url='https://www.ptt.cc/bbs/DoubleMajor/index.html'\n",
    "r=requests.get(url)\n",
    "\n",
    "soup=BeautifulSoup(r.text,\"html5lib\")\n",
    "\n",
    "for d in soup.find_all(class_=\"title\"):\n",
    "    print(d.text.replace('\\t','').replace('\\n',''))\n",
    "    \n",
    "    try:\n",
    "        r=BeautilfuSoup(requests.get('https://www.ptt.cc'+d.find('a')['href']).text,\"html5lib\")\n",
    "        print('作者:'+r.find(class_='article-meta-value').text)\n",
    "    except:\n",
    "        continue\n",
    "\n"
   ]
  },
  {
   "cell_type": "code",
   "execution_count": null,
   "metadata": {},
   "outputs": [],
   "source": []
  }
 ],
 "metadata": {
  "kernelspec": {
   "display_name": "Python 3",
   "language": "python",
   "name": "python3"
  },
  "language_info": {
   "codemirror_mode": {
    "name": "ipython",
    "version": 3
   },
   "file_extension": ".py",
   "mimetype": "text/x-python",
   "name": "python",
   "nbconvert_exporter": "python",
   "pygments_lexer": "ipython3",
   "version": "3.7.3"
  }
 },
 "nbformat": 4,
 "nbformat_minor": 2
}
