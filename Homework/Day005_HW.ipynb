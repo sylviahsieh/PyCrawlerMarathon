{
 "cells": [
  {
   "cell_type": "markdown",
   "metadata": {},
   "source": [
    "# API 資料串接 - 以 Dcard API 實作範例\n",
    "\n",
    "* 了解 Dcard API 使用方式與回傳內容\n",
    "* 撰寫程式存取 API 且解析 JSON 格式資料\n"
   ]
  },
  {
   "cell_type": "markdown",
   "metadata": {},
   "source": [
    "## 作業目標\n",
    "\n",
    "* 請利用 API: https://www.dcard.tw/_api/forums/pet/posts?popular=true 回答下列問題：\n",
    "\n",
    "1. 這個 API 一次會回傳幾筆資料？每一筆資料包含哪些欄位？\n",
    "2. 取出每一筆資料的「標題」、「貼文時間」、「留言人數」、「按讚人數」\n",
    "3. 計算熱門/非熱門文章的「平均留言人數」與「平均按讚人數」"
   ]
  },
  {
   "cell_type": "code",
   "execution_count": 6,
   "metadata": {},
   "outputs": [
    {
     "name": "stdout",
     "output_type": "stream",
     "text": [
      "剛送到的麥當勞⋯⋯⋯\n",
      "我的臉被踩奶了\n",
      "養到一隻外星貓\n",
      "猥褻鳥\n",
      "交出你的兔子\n",
      "我是雪貂！不是水獺😂\n",
      "在新竹長大的毛小孩🐶\n",
      "請問貓咪有懷孕嗎？\n",
      "我很可愛你不用說了(˶‾᷄ ⁻̫ ‾᷅˵)\n",
      "鬼壓床......？🤔🤔\n",
      "蠶寶寶顏色不一樣\n",
      "兩小貓送養😺\n",
      "會戴頭套的貓\n",
      "像台灣黑熊的鼠寶寶\n",
      "一年了，謝謝祢的貼心...\n",
      "全力支持流浪貓狗安樂死\n",
      "欸我阿寶啦\n",
      "玄鳳鸚鵡協尋！（高雄市）\n",
      "喵星人小名募集中\n",
      "沒人陪睡就算了，連狗也不陪睡。\n",
      "巨無霸草莓獅🍓\n",
      "高中生剃毛貓當好玩？？\n",
      "兔子狗\n",
      "鼠寶眼睛驚魂記\n",
      "倉鼠公母\n",
      "家中有兔宝🐰\n",
      "被風吹到炸毛的鳥...這姿勢怎麼辦到的\n",
      "代po 五股新莊蘆洲人拜託幫忙協尋\n",
      "轉：《協尋遺失貓咪》\n",
      "剛養奶貓請各位奴才救救😭\n",
      "{'id': 233915201, 'title': '剛養奶貓請各位奴才救救😭', 'excerpt': '貓咪年齡2-3個月，之前這隻貓貓被別人從2樓丟下來，被我朋友的朋友撿到，後來被我朋友先代收寄養，（大約待我朋友家約2個禮拜左右），6/19的早上我把貓貓接回我家，今天是他待在我家的第二晚，第一晚整晚都', 'anonymousSchool': False, 'anonymousDepartment': True, 'pinned': False, 'forumId': '7ee21581-1307-4ba9-b9dc-82028bdcca49', 'replyId': None, 'createdAt': '2020-06-20T22:25:23.470Z', 'updatedAt': '2020-06-20T22:25:23.470Z', 'commentCount': 2, 'likeCount': 1, 'withNickname': False, 'tags': [], 'topics': ['奶貓', '貓', '米克斯'], 'meta': {'layout': 'classic'}, 'forumName': '寵物', 'forumAlias': 'pet', 'nsfw': False, 'gender': 'F', 'school': '醒吾科技大學', 'replyTitle': None, 'mediaMeta': [{'id': '529e8c01-8f5d-434d-b8d7-86537aae604d', 'url': 'https://megapx-assets.dcard.tw/images/f769b262-f2a5-4376-bd8b-ccd301a1f7b1/160.jpeg', 'normalizedUrl': 'https://megapx-assets.dcard.tw/images/f769b262-f2a5-4376-bd8b-ccd301a1f7b1/160.jpeg', 'thumbnail': 'https://megapx-assets.dcard.tw/images/f769b262-f2a5-4376-bd8b-ccd301a1f7b1/160.jpeg', 'type': 'image/thumbnail', 'tags': [], 'createdAt': '2020-06-20T22:25:23.470Z', 'updatedAt': '2020-06-20T22:25:23.470Z', 'width': 120, 'height': 160}, {'id': '529e8c01-8f5d-434d-b8d7-86537aae604d', 'url': 'https://megapx-assets.dcard.tw/images/f769b262-f2a5-4376-bd8b-ccd301a1f7b1/640.jpeg', 'normalizedUrl': 'https://megapx.dcard.tw/v1/images/f769b262-f2a5-4376-bd8b-ccd301a1f7b1', 'thumbnail': 'https://megapx-assets.dcard.tw/images/f769b262-f2a5-4376-bd8b-ccd301a1f7b1/160.jpeg', 'type': 'image/megapx', 'tags': [], 'createdAt': '2020-06-20T22:25:23.470Z', 'updatedAt': '2020-06-20T22:25:23.470Z', 'width': 1500, 'height': 2000}], 'reactions': [{'id': '286f599c-f86a-4932-82f0-f5a06f1eca03', 'count': 1}], 'hidden': False, 'customStyle': None, 'isSuspiciousAccount': False, 'layout': 'classic', 'withImages': True, 'withVideos': False, 'media': [{'url': 'https://megapx-assets.dcard.tw/images/f769b262-f2a5-4376-bd8b-ccd301a1f7b1/640.jpeg'}], 'reportReasonText': '', 'postAvatar': ''}\n"
     ]
    }
   ],
   "source": [
    "# 1. 這個 API 一次會回傳幾筆資料？每一筆資料包含哪些欄位？\n",
    "\n",
    "import requests\n",
    "import json\n",
    "\n",
    "r=requests.get('https://www.dcard.tw/_api/forums/pet/posts?popular=true')\n",
    "response=r.text\n",
    "\n",
    "data=json.loads(response)\n",
    "for d in data:\n",
    "    print(d['title'])\n",
    "print(d)"
   ]
  },
  {
   "cell_type": "code",
   "execution_count": 2,
   "metadata": {},
   "outputs": [
    {
     "data": {
      "text/plain": [
       "'\\nYour Code\\n'"
      ]
     },
     "execution_count": 2,
     "metadata": {},
     "output_type": "execute_result"
    }
   ],
   "source": [
    "# 2. 取出每一筆資料的「標題」、「貼文時間」、「留言人數」、「按讚人數」\n",
    "\n",
    "'''\n",
    "Your Code\n",
    "'''"
   ]
  },
  {
   "cell_type": "code",
   "execution_count": 3,
   "metadata": {},
   "outputs": [
    {
     "data": {
      "text/plain": [
       "'\\nYour Code\\n'"
      ]
     },
     "execution_count": 3,
     "metadata": {},
     "output_type": "execute_result"
    }
   ],
   "source": [
    "# 3. 計算熱門/非熱門文章的「平均留言人數」與「平均按讚人數」\n",
    "\n",
    "'''\n",
    "Your Code\n",
    "'''"
   ]
  },
  {
   "cell_type": "code",
   "execution_count": null,
   "metadata": {},
   "outputs": [],
   "source": []
  },
  {
   "cell_type": "code",
   "execution_count": null,
   "metadata": {},
   "outputs": [],
   "source": []
  }
 ],
 "metadata": {
  "kernelspec": {
   "display_name": "Python 3",
   "language": "python",
   "name": "python3"
  },
  "language_info": {
   "codemirror_mode": {
    "name": "ipython",
    "version": 3
   },
   "file_extension": ".py",
   "mimetype": "text/x-python",
   "name": "python",
   "nbconvert_exporter": "python",
   "pygments_lexer": "ipython3",
   "version": "3.7.3"
  }
 },
 "nbformat": 4,
 "nbformat_minor": 2
}
